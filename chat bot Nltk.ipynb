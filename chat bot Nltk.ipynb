{
 "cells": [
  {
   "cell_type": "raw",
   "id": "209616d3-1fcb-4f1e-af8e-99e795454f8c",
   "metadata": {},
   "source": [
    "# Basic Chatbot using NLTK (Natural Language Toolkit)"
   ]
  },
  {
   "cell_type": "code",
   "execution_count": 18,
   "id": "7f93fe96-f6a9-4d8c-8104-edec2f40e6ee",
   "metadata": {},
   "outputs": [],
   "source": [
    "# step 1: Install necessary requirements\n",
    "pip install nltk"
   ]
  },
  {
   "cell_type": "code",
   "execution_count": 19,
   "id": "0fa70774-ec40-4739-861e-3cafb3b1c6a8",
   "metadata": {},
   "outputs": [],
   "source": [
    "# Import necessary libraries\n",
    "import nltk\n",
    "import random\n",
    "import string\n",
    "\n",
    "from nltk.tokenize import word_tokenize\n",
    "from nltk.corpus import stopwords"
   ]
  },
  {
   "cell_type": "code",
   "execution_count": 20,
   "id": "8adaaf5b-49b3-4a76-b01e-e86a8deed019",
   "metadata": {},
   "outputs": [
    {
     "name": "stderr",
     "output_type": "stream",
     "text": [
      "[nltk_data] Downloading package punkt to\n",
      "[nltk_data]     C:\\Users\\DELL\\AppData\\Roaming\\nltk_data...\n",
      "[nltk_data]   Package punkt is already up-to-date!\n",
      "[nltk_data] Downloading package stopwords to\n",
      "[nltk_data]     C:\\Users\\DELL\\AppData\\Roaming\\nltk_data...\n",
      "[nltk_data]   Package stopwords is already up-to-date!\n"
     ]
    },
    {
     "data": {
      "text/plain": [
       "True"
      ]
     },
     "execution_count": 20,
     "metadata": {},
     "output_type": "execute_result"
    }
   ],
   "source": [
    "# step 2: Download necessary NLTK data files\n",
    "nltk.download('punkt')\n",
    "nltk.download('stopwords')"
   ]
  },
  {
   "cell_type": "code",
   "execution_count": 21,
   "id": "838dc7dc-e5c1-44fe-9017-d406b2fb7257",
   "metadata": {},
   "outputs": [],
   "source": [
    "# Step 3: Preprocess the User Input\n",
    "def preprocess(text):\n",
    "    # Convert to lowercase\n",
    "    text = text.lower()\n",
    "    # Tokenize\n",
    "    tokens = word_tokenize(text)\n",
    "    # Remove punctuation and stopwords\n",
    "    tokens = [word for word in tokens if word not in string.punctuation]\n",
    "    tokens = [word for word in tokens if word not in stopwords.words('english')]\n",
    "    return tokens"
   ]
  },
  {
   "cell_type": "code",
   "execution_count": 22,
   "id": "f21964be-b0d4-44c0-8261-9789a46c56f9",
   "metadata": {},
   "outputs": [],
   "source": [
    "# step 4:  Define Intents & Responses\n",
    "\n",
    "responses = {\n",
    "    \"greeting\": [\"Hello! How can I help?\", \"Hi there!\", \"Hey! What can I do for you?\"],\n",
    "    \"weather\": [\"It's sunny today!\", \"Looks like it's going to rain.\", \"Weather's pretty good!\"],\n",
    "    \"name\": [\"I am your friendly chatbot.\", \"You can call me ChatBuddy!\"],\n",
    "    \"goodbye\": [\"Bye! Have a great day!\", \"See you later!\", \"Take care!\"],\n",
    "    \"thanks\": [\"You're welcome!\", \"Glad to help!\", \"No problem!\"],\n",
    "    \"age\": [\"I'm timeless!\", \"I was created recently, but I learn fast.\"],\n",
    "    \"creator\": [\"I was created by a Python enthusiast!\", \"My developer prefers to stay anonymous!\"],\n",
    "    \"help\": [\"Sure, I can help! Ask me anything.\", \"I'm here to assist you.\"]\n",
    "}"
   ]
  },
  {
   "cell_type": "code",
   "execution_count": 23,
   "id": "86156964-53b9-4441-84b7-951285a60607",
   "metadata": {},
   "outputs": [],
   "source": [
    "# step 5: Matching of user input with intents(Responces)\n",
    "\n",
    "def get_intent(tokens):\n",
    "    for word in tokens:\n",
    "        if word in [\"hi\", \"hello\", \"hey\"]:\n",
    "            return \"greeting\"\n",
    "        elif word in [\"weather\", \"rain\", \"sunny\"]:\n",
    "            return \"weather\"\n",
    "        elif word in [\"name\", \"who\"]:\n",
    "            return \"name\"\n",
    "        elif word in [\"bye\", \"goodbye\", \"see\"]:\n",
    "            return \"goodbye\"\n",
    "        elif word in [\"thanks\", \"thank\"]:\n",
    "            return \"thanks\"\n",
    "        elif word in [\"age\", \"old\"]:\n",
    "            return \"age\"\n",
    "        elif word in [\"creator\", \"made\"]:\n",
    "            return \"creator\"\n",
    "        elif word in [\"help\", \"assist\"]:\n",
    "            return \"help\"\n",
    "    return \"unknown\""
   ]
  },
  {
   "cell_type": "code",
   "execution_count": 24,
   "id": "e361726f-dabc-46d7-b6d3-93fa1379155e",
   "metadata": {},
   "outputs": [],
   "source": [
    "# Step 6: Function to Respond Based on Intent\n",
    "\n",
    "def chatbot_response(user_input):\n",
    "    tokens = preprocess(user_input)\n",
    "    intent = get_intent(tokens)\n",
    "    if intent in responses:\n",
    "        return random.choice(responses[intent])\n",
    "    else:\n",
    "        return \"I'm sorry, I didn't understand that. Can you rephrase?\"  # if the input and intent doesnt match , the above statement is shown."
   ]
  },
  {
   "cell_type": "code",
   "execution_count": 25,
   "id": "b86d7940-c9a1-4be5-b6fb-76021b5411c1",
   "metadata": {},
   "outputs": [
    {
     "name": "stdout",
     "output_type": "stream",
     "text": [
      " ChatBot is online! (Type 'exit' to stop)\n",
      "\n"
     ]
    },
    {
     "name": "stdin",
     "output_type": "stream",
     "text": [
      "You:  Hi\n"
     ]
    },
    {
     "name": "stdout",
     "output_type": "stream",
     "text": [
      "ChatBot: Hello! How can I help?\n"
     ]
    },
    {
     "name": "stdin",
     "output_type": "stream",
     "text": [
      "You:  who is your creator\n"
     ]
    },
    {
     "name": "stdout",
     "output_type": "stream",
     "text": [
      "ChatBot: My developer prefers to stay anonymous!\n"
     ]
    },
    {
     "name": "stdin",
     "output_type": "stream",
     "text": [
      "You:  what is your age\n"
     ]
    },
    {
     "name": "stdout",
     "output_type": "stream",
     "text": [
      "ChatBot: I'm timeless!\n"
     ]
    },
    {
     "name": "stdin",
     "output_type": "stream",
     "text": [
      "You:  do you help me\n"
     ]
    },
    {
     "name": "stdout",
     "output_type": "stream",
     "text": [
      "ChatBot: I'm here to assist you.\n"
     ]
    },
    {
     "name": "stdin",
     "output_type": "stream",
     "text": [
      "You:  how is the weather today\n"
     ]
    },
    {
     "name": "stdout",
     "output_type": "stream",
     "text": [
      "ChatBot: It's sunny today!\n"
     ]
    },
    {
     "name": "stdin",
     "output_type": "stream",
     "text": [
      "You:  fgdgedeujdhgdhdj\n"
     ]
    },
    {
     "name": "stdout",
     "output_type": "stream",
     "text": [
      "ChatBot: I'm sorry, I didn't understand that. Can you rephrase?\n"
     ]
    },
    {
     "name": "stdin",
     "output_type": "stream",
     "text": [
      "You:  exit\n"
     ]
    },
    {
     "name": "stdout",
     "output_type": "stream",
     "text": [
      "ChatBot: Goodbye!\n"
     ]
    }
   ],
   "source": [
    "# Final step: Running the chatbot\n",
    "\n",
    "print(\" ChatBot is online! (Type 'exit' to stop)\\n\")\n",
    "\n",
    "while True:\n",
    "    user_input = input(\"You: \")\n",
    "    if user_input.lower() == \"exit\":\n",
    "        print(\"ChatBot: Goodbye!\")\n",
    "        break\n",
    "    response = chatbot_response(user_input)\n",
    "    print(\"ChatBot:\", response)\n"
   ]
  },
  {
   "cell_type": "code",
   "execution_count": null,
   "id": "ee54dc56-6238-48d4-804f-a7339cb9e4e5",
   "metadata": {},
   "outputs": [],
   "source": []
  },
  {
   "cell_type": "code",
   "execution_count": null,
   "id": "ca2e42ff-8418-4893-8fdb-9b92654a105b",
   "metadata": {},
   "outputs": [],
   "source": []
  }
 ],
 "metadata": {
  "kernelspec": {
   "display_name": "Python 3 (ipykernel)",
   "language": "python",
   "name": "python3"
  },
  "language_info": {
   "codemirror_mode": {
    "name": "ipython",
    "version": 3
   },
   "file_extension": ".py",
   "mimetype": "text/x-python",
   "name": "python",
   "nbconvert_exporter": "python",
   "pygments_lexer": "ipython3",
   "version": "3.12.7"
  }
 },
 "nbformat": 4,
 "nbformat_minor": 5
}
